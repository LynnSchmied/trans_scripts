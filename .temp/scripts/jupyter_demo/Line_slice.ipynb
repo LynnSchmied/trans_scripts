{
 "cells": [
  {
   "cell_type": "code",
   "execution_count": 6,
   "metadata": {},
   "outputs": [],
   "source": [
    "from py import line_demo as ld\n",
    "\n",
    "\n",
    "import os\n",
    "import logging\n",
    "import math\n",
    "\n",
    "import matplotlib\n",
    "import matplotlib.pyplot as plt\n",
    "import numpy as np\n",
    "\n",
    "from skimage.external import tifffile\n",
    "from skimage import data, img_as_float\n",
    "from ipywidgets import interact\n",
    "import ipywidgets as widgets\n"
   ]
  },
  {
   "cell_type": "code",
   "execution_count": 14,
   "metadata": {},
   "outputs": [
    {
     "data": {
      "application/vnd.jupyter.widget-view+json": {
       "model_id": "3e13c23ca15a400ca07b5f3547236ab1",
       "version_major": 2,
       "version_minor": 0
      },
      "text/plain": [
       "interactive(children=(IntSlider(value=90, description='angle', max=180, min=1), IntSlider(value=348, descripti…"
      ]
     },
     "metadata": {},
     "output_type": "display_data"
    },
    {
     "data": {
      "text/plain": [
       "<function __main__.plotCell(angle, xcntr=250, ycntr=800)>"
      ]
     },
     "execution_count": 14,
     "metadata": {},
     "output_type": "execute_result"
    }
   ],
   "source": [
    "def plotCell(angle, xcntr = 250, ycntr = 800):\n",
    "    input_file = 'temp/data/Fluorescence_435nmDD500_cell1.tiff'\n",
    "    # angle = 0\n",
    "\n",
    "    img = ld.getTiff(input_file, 1, 10)\n",
    "    # data_shape = img.shape()\n",
    "    # print(data_shape[1], data_shape[2])\n",
    "\n",
    "#     cntr = [250,800]\n",
    "    cntr = [xcntr, ycntr]\n",
    "\n",
    "    start, end = ld.lineSlice(img, angle, cntr)\n",
    "    line_slice = ld.lineExtract(img, start, end)\n",
    "    shape = np.shape(img)\n",
    "#     print(shape)\n",
    "#     cntr = [np.int((shape[1]-1)/2),\n",
    "#             np.int((shape[0]-1)/2)]\n",
    "#     print(cntr)\n",
    "\n",
    "\n",
    "    fig, (ax0, ax1) = plt.subplots(nrows=2,\n",
    "                              ncols=1,\n",
    "                              figsize=(8, 8))\n",
    "\n",
    "    ax0.imshow(img)  #, cmap='gray')\n",
    "    ax0.plot([start[0], end[0]], [start[1], end[1]], 'ro-')\n",
    "    ax0.scatter(cntr[0],cntr[1],color='r')\n",
    "    # ax0.scatter(start[0]+5, start[1]+5)\n",
    "\n",
    "    ax1.plot(line_slice)\n",
    "\n",
    "    # plt.gca().invert_yaxis()\n",
    "    plt.show()\n",
    "    \n",
    "interact(plotCell,\n",
    "         angle=widgets.IntSlider(min=1, max=180, step=1, value=90),\n",
    "         xcntr=widgets.IntSlider(min=0, max=696, step=1, value=696//2),\n",
    "         ycntr=widgets.IntSlider(min=0, max=1040, step=1, value=1040//2))"
   ]
  },
  {
   "cell_type": "code",
   "execution_count": 5,
   "metadata": {},
   "outputs": [],
   "source": []
  }
 ],
 "metadata": {
  "kernelspec": {
   "display_name": "Python 3",
   "language": "python",
   "name": "python3"
  },
  "language_info": {
   "codemirror_mode": {
    "name": "ipython",
    "version": 3
   },
   "file_extension": ".py",
   "mimetype": "text/x-python",
   "name": "python",
   "nbconvert_exporter": "python",
   "pygments_lexer": "ipython3",
   "version": "3.7.6"
  }
 },
 "nbformat": 4,
 "nbformat_minor": 4
}
